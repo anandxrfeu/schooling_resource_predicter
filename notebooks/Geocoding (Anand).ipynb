{
 "cells": [
  {
   "cell_type": "markdown",
   "id": "cff3d312-1edd-49fe-bbd3-6353829f2361",
   "metadata": {},
   "source": [
    "# Geocoding"
   ]
  },
  {
   "cell_type": "markdown",
   "id": "45a9285d-5593-4a32-953d-9f3caf09ac67",
   "metadata": {},
   "source": [
    "This file aims to convert IBGE code to its respective Latitude and Longitudes"
   ]
  },
  {
   "cell_type": "code",
   "execution_count": 12,
   "id": "3f2aba72-9e16-4fcc-b445-1fec8a243c27",
   "metadata": {},
   "outputs": [],
   "source": [
    "import os\n",
    "import requests\n",
    "import json\n",
    "from dotenv import load_dotenv\n",
    "\n",
    "# Load the environment file\n",
    "load_dotenv(\"../.env\")\n",
    "\n",
    "# Read the access token\n",
    "access_token = os.getenv(\"MAPBOX_ACCESS_TOKEN\")\n",
    "\n",
    "def get_coordinates(municipality, state):\n",
    "    base_url = \"https://api.mapbox.com/geocoding/v5/mapbox.places/\"\n",
    "    \n",
    "    query = f\"{municipality}, {state}, Brazil.json?access_token={access_token}\"\n",
    "    \n",
    "    url = base_url + query\n",
    "    \n",
    "    response = requests.get(url)\n",
    "    if response.status_code == 200:\n",
    "        data = json.loads(response.text)\n",
    "        if data['features']:\n",
    "            longitude, latitude = data['features'][0]['geometry']['coordinates']\n",
    "            return latitude, longitude\n",
    "        else:\n",
    "            return None\n",
    "    else:\n",
    "        print(f\"Error: Received status code {response.status_code}\")\n",
    "        return None"
   ]
  },
  {
   "cell_type": "code",
   "execution_count": 13,
   "id": "4b32e1f2-deaa-47e6-9a32-6bd4b689f32d",
   "metadata": {},
   "outputs": [
    {
     "name": "stdout",
     "output_type": "stream",
     "text": [
      "The coordinates for São Paulo, São Paulo are (Latitude: -23.510156, Longitude: -46.36696)\n",
      "The coordinates for Rio de Janeiro, Rio de Janeiro are (Latitude: -22.921032, Longitude: -43.369465)\n",
      "The coordinates for Salvador, Bahia are (Latitude: -12.98225, Longitude: -38.481277)\n"
     ]
    }
   ],
   "source": [
    "locations = [\n",
    "        {\"municipality\": \"São Paulo\", \"state\": \"São Paulo\"},\n",
    "        {\"municipality\": \"Rio de Janeiro\", \"state\": \"Rio de Janeiro\"},\n",
    "        {\"municipality\": \"Salvador\", \"state\": \"Bahia\"}\n",
    "    ]\n",
    "    \n",
    "for location in locations:\n",
    "    municipality = location[\"municipality\"]\n",
    "    state = location[\"state\"]\n",
    "    coordinates = get_coordinates(municipality, state)\n",
    "    if coordinates:\n",
    "        latitude, longitude = coordinates\n",
    "        print(f\"The coordinates for {municipality}, {state} are (Latitude: {latitude}, Longitude: {longitude})\")\n",
    "    else:\n",
    "        print(f\"Could not find coordinates for {municipality}, {state}\")\n"
   ]
  },
  {
   "cell_type": "code",
   "execution_count": null,
   "id": "4273966c-3b8d-4d0b-98d6-b37e8600965e",
   "metadata": {},
   "outputs": [],
   "source": []
  },
  {
   "cell_type": "code",
   "execution_count": null,
   "id": "633aaf68-fbb1-4a59-962b-eb7f95b37fc2",
   "metadata": {},
   "outputs": [],
   "source": []
  },
  {
   "cell_type": "code",
   "execution_count": null,
   "id": "6fab428f-4cb2-441f-844b-59fad5a38d65",
   "metadata": {},
   "outputs": [],
   "source": []
  },
  {
   "cell_type": "code",
   "execution_count": null,
   "id": "cb3a2317-0f02-49aa-b1f4-09aa39356ffe",
   "metadata": {},
   "outputs": [],
   "source": []
  },
  {
   "cell_type": "code",
   "execution_count": null,
   "id": "fd7dc612-8d3c-4b98-a01a-3811e74d7220",
   "metadata": {},
   "outputs": [],
   "source": []
  }
 ],
 "metadata": {
  "kernelspec": {
   "display_name": "Python 3 (ipykernel)",
   "language": "python",
   "name": "python3"
  },
  "language_info": {
   "codemirror_mode": {
    "name": "ipython",
    "version": 3
   },
   "file_extension": ".py",
   "mimetype": "text/x-python",
   "name": "python",
   "nbconvert_exporter": "python",
   "pygments_lexer": "ipython3",
   "version": "3.10.6"
  }
 },
 "nbformat": 4,
 "nbformat_minor": 5
}
